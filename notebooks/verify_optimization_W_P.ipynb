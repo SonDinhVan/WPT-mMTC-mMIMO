{
 "cells": [
  {
   "cell_type": "code",
   "execution_count": 14,
   "metadata": {},
   "outputs": [],
   "source": [
    "import numpy as np\n",
    "from configs import config\n",
    "from modules import channel, node, system as sys\n",
    "from IPython.display import clear_output\n",
    "import matplotlib.pyplot as plt\n",
    "import cvxpy as cp\n",
    "from time import time"
   ]
  },
  {
   "cell_type": "code",
   "execution_count": 15,
   "metadata": {},
   "outputs": [],
   "source": [
    "# Network topology settings\n",
    "M = 10\n",
    "N = 100\n",
    "K = 20\n"
   ]
  },
  {
   "cell_type": "code",
   "execution_count": 16,
   "metadata": {},
   "outputs": [],
   "source": [
    "s = sys.System(M=M, N=N, K=K)\n",
    "\n",
    "# The configuration settings\n",
    "s.tau_p = 10\n",
    "s.M0 = 2"
   ]
  },
  {
   "cell_type": "code",
   "execution_count": 17,
   "metadata": {},
   "outputs": [],
   "source": [
    "# Assign random transmit power for each UE\n",
    "for UE in s.UE_list:\n",
    "    # UE.P = config.P_MAX_UE\n",
    "    UE.P = np.random.uniform(0.0, 0.5)"
   ]
  },
  {
   "cell_type": "code",
   "execution_count": 18,
   "metadata": {},
   "outputs": [],
   "source": [
    "s.assign_APs()\n",
    "s.assign_pilot()\n",
    "s.calculate_U()"
   ]
  },
  {
   "cell_type": "code",
   "execution_count": 19,
   "metadata": {},
   "outputs": [
    {
     "name": "stdout",
     "output_type": "stream",
     "text": [
      "-21.294883245646094\n",
      "2.5675998267897784\n",
      "2.5648585157283437\n",
      "2.5725905273592047\n",
      "2.571872557225534\n",
      "2.566937646095349\n",
      "2.566925084579151\n",
      "2.562829077039021\n",
      "2.56282832808711\n",
      "2.559063449322336\n",
      "2.5590652946765857\n"
     ]
    },
    {
     "ename": "KeyboardInterrupt",
     "evalue": "",
     "output_type": "error",
     "traceback": [
      "\u001b[0;31m---------------------------------------------------------------------------\u001b[0m",
      "\u001b[0;31mKeyboardInterrupt\u001b[0m                         Traceback (most recent call last)",
      "Cell \u001b[0;32mIn[19], line 2\u001b[0m\n\u001b[1;32m      1\u001b[0m start \u001b[38;5;241m=\u001b[39m time()\n\u001b[0;32m----> 2\u001b[0m \u001b[43ms\u001b[49m\u001b[38;5;241;43m.\u001b[39;49m\u001b[43msolve_optimization_jointly_W_P\u001b[49m\u001b[43m(\u001b[49m\u001b[43m)\u001b[49m\n\u001b[1;32m      3\u001b[0m end \u001b[38;5;241m=\u001b[39m time()\n\u001b[1;32m      4\u001b[0m \u001b[38;5;28mprint\u001b[39m(\u001b[38;5;124m\"\u001b[39m\u001b[38;5;124mAverage accumulated power = \u001b[39m\u001b[38;5;132;01m{}\u001b[39;00m\u001b[38;5;124m mW. Processing takes \u001b[39m\u001b[38;5;132;01m{}\u001b[39;00m\u001b[38;5;124m seconds\u001b[39m\u001b[38;5;124m\"\u001b[39m\u001b[38;5;241m.\u001b[39mformat(s\u001b[38;5;241m.\u001b[39mcalculate_upper_bound_UE_k_using_analysis(k\u001b[38;5;241m=\u001b[39m\u001b[38;5;241m0\u001b[39m) \u001b[38;5;241m*\u001b[39m \u001b[38;5;241m1000\u001b[39m, end \u001b[38;5;241m-\u001b[39m start))\n",
      "File \u001b[0;32m~/Library/CloudStorage/OneDrive-UniversityofWarwick/Academic Projects/PEER_REVIEW/Transaction_Distributed massive MIMO-aided WPT in industrial IoTs/Code/WPT_mMTC_2/modules/system.py:997\u001b[0m, in \u001b[0;36mSystem.solve_optimization_jointly_W_P\u001b[0;34m(self, tol, max_iter)\u001b[0m\n\u001b[1;32m    993\u001b[0m     x_, z_ \u001b[38;5;241m=\u001b[39m \u001b[38;5;28mself\u001b[39m\u001b[38;5;241m.\u001b[39msolve_W_by_fixing_P()\n\u001b[1;32m    994\u001b[0m     \u001b[38;5;28mprint\u001b[39m(\n\u001b[1;32m    995\u001b[0m         \u001b[38;5;28mself\u001b[39m\u001b[38;5;241m.\u001b[39mcalculate_upper_bound_of_mean_accumulated_power() \u001b[38;5;241m*\u001b[39m \u001b[38;5;241m1000\u001b[39m\n\u001b[1;32m    996\u001b[0m     )\n\u001b[0;32m--> 997\u001b[0m     current_optimal_val \u001b[38;5;241m=\u001b[39m \u001b[38;5;28;43mself\u001b[39;49m\u001b[38;5;241;43m.\u001b[39;49m\u001b[43msolve_P_by_fixing_W\u001b[49m\u001b[43m(\u001b[49m\u001b[43mx\u001b[49m\u001b[38;5;241;43m=\u001b[39;49m\u001b[43mx_\u001b[49m\u001b[43m,\u001b[49m\u001b[43m \u001b[49m\u001b[43mz\u001b[49m\u001b[38;5;241;43m=\u001b[39;49m\u001b[43mz_\u001b[49m\u001b[43m)\u001b[49m\n\u001b[1;32m    998\u001b[0m     \u001b[38;5;28mprint\u001b[39m(\n\u001b[1;32m    999\u001b[0m         \u001b[38;5;28mself\u001b[39m\u001b[38;5;241m.\u001b[39mcalculate_upper_bound_of_mean_accumulated_power() \u001b[38;5;241m*\u001b[39m \u001b[38;5;241m1000\u001b[39m\n\u001b[1;32m   1000\u001b[0m     )\n\u001b[1;32m   1002\u001b[0m end \u001b[38;5;241m=\u001b[39m time()\n",
      "File \u001b[0;32m~/Library/CloudStorage/OneDrive-UniversityofWarwick/Academic Projects/PEER_REVIEW/Transaction_Distributed massive MIMO-aided WPT in industrial IoTs/Code/WPT_mMTC_2/modules/system.py:940\u001b[0m, in \u001b[0;36mSystem.solve_P_by_fixing_W\u001b[0;34m(self, x, z, tol, max_iter)\u001b[0m\n\u001b[1;32m    938\u001b[0m \u001b[38;5;66;03m# Solve the problem\u001b[39;00m\n\u001b[1;32m    939\u001b[0m \u001b[38;5;28;01mtry\u001b[39;00m:\n\u001b[0;32m--> 940\u001b[0m     \u001b[43mproblem\u001b[49m\u001b[38;5;241;43m.\u001b[39;49m\u001b[43msolve\u001b[49m\u001b[43m(\u001b[49m\u001b[43msolver\u001b[49m\u001b[38;5;241;43m=\u001b[39;49m\u001b[43mcp\u001b[49m\u001b[38;5;241;43m.\u001b[39;49m\u001b[43mMOSEK\u001b[49m\u001b[43m,\u001b[49m\u001b[43m \u001b[49m\u001b[43mverbose\u001b[49m\u001b[38;5;241;43m=\u001b[39;49m\u001b[38;5;28;43;01mFalse\u001b[39;49;00m\u001b[43m)\u001b[49m\n\u001b[1;32m    941\u001b[0m     current_optimal_val \u001b[38;5;241m=\u001b[39m problem\u001b[38;5;241m.\u001b[39mvalue\n\u001b[1;32m    942\u001b[0m \u001b[38;5;28;01mexcept\u001b[39;00m \u001b[38;5;167;01mException\u001b[39;00m \u001b[38;5;28;01mas\u001b[39;00m e:\n",
      "File \u001b[0;32m~/miniconda3/envs/WPT_mMTC/lib/python3.9/site-packages/cvxpy/problems/problem.py:495\u001b[0m, in \u001b[0;36mProblem.solve\u001b[0;34m(self, *args, **kwargs)\u001b[0m\n\u001b[1;32m    493\u001b[0m \u001b[38;5;28;01melse\u001b[39;00m:\n\u001b[1;32m    494\u001b[0m     solve_func \u001b[38;5;241m=\u001b[39m Problem\u001b[38;5;241m.\u001b[39m_solve\n\u001b[0;32m--> 495\u001b[0m \u001b[38;5;28;01mreturn\u001b[39;00m \u001b[43msolve_func\u001b[49m\u001b[43m(\u001b[49m\u001b[38;5;28;43mself\u001b[39;49m\u001b[43m,\u001b[49m\u001b[43m \u001b[49m\u001b[38;5;241;43m*\u001b[39;49m\u001b[43margs\u001b[49m\u001b[43m,\u001b[49m\u001b[43m \u001b[49m\u001b[38;5;241;43m*\u001b[39;49m\u001b[38;5;241;43m*\u001b[39;49m\u001b[43mkwargs\u001b[49m\u001b[43m)\u001b[49m\n",
      "File \u001b[0;32m~/miniconda3/envs/WPT_mMTC/lib/python3.9/site-packages/cvxpy/problems/problem.py:1056\u001b[0m, in \u001b[0;36mProblem._solve\u001b[0;34m(self, solver, warm_start, verbose, gp, qcp, requires_grad, enforce_dpp, ignore_dpp, canon_backend, **kwargs)\u001b[0m\n\u001b[1;32m   1053\u001b[0m         \u001b[38;5;28mself\u001b[39m\u001b[38;5;241m.\u001b[39munpack(chain\u001b[38;5;241m.\u001b[39mretrieve(soln))\n\u001b[1;32m   1054\u001b[0m         \u001b[38;5;28;01mreturn\u001b[39;00m \u001b[38;5;28mself\u001b[39m\u001b[38;5;241m.\u001b[39mvalue\n\u001b[0;32m-> 1056\u001b[0m data, solving_chain, inverse_data \u001b[38;5;241m=\u001b[39m \u001b[38;5;28;43mself\u001b[39;49m\u001b[38;5;241;43m.\u001b[39;49m\u001b[43mget_problem_data\u001b[49m\u001b[43m(\u001b[49m\n\u001b[1;32m   1057\u001b[0m \u001b[43m    \u001b[49m\u001b[43msolver\u001b[49m\u001b[43m,\u001b[49m\u001b[43m \u001b[49m\u001b[43mgp\u001b[49m\u001b[43m,\u001b[49m\u001b[43m \u001b[49m\u001b[43menforce_dpp\u001b[49m\u001b[43m,\u001b[49m\u001b[43m \u001b[49m\u001b[43mignore_dpp\u001b[49m\u001b[43m,\u001b[49m\u001b[43m \u001b[49m\u001b[43mverbose\u001b[49m\u001b[43m,\u001b[49m\u001b[43m \u001b[49m\u001b[43mcanon_backend\u001b[49m\u001b[43m,\u001b[49m\u001b[43m \u001b[49m\u001b[43mkwargs\u001b[49m\n\u001b[1;32m   1058\u001b[0m \u001b[43m\u001b[49m\u001b[43m)\u001b[49m\n\u001b[1;32m   1060\u001b[0m \u001b[38;5;28;01mif\u001b[39;00m verbose:\n\u001b[1;32m   1061\u001b[0m     \u001b[38;5;28mprint\u001b[39m(_NUM_SOLVER_STR)\n",
      "File \u001b[0;32m~/miniconda3/envs/WPT_mMTC/lib/python3.9/site-packages/cvxpy/problems/problem.py:683\u001b[0m, in \u001b[0;36mProblem.get_problem_data\u001b[0;34m(self, solver, gp, enforce_dpp, ignore_dpp, verbose, canon_backend, solver_opts)\u001b[0m\n\u001b[1;32m    680\u001b[0m     s\u001b[38;5;241m.\u001b[39mLOGGER\u001b[38;5;241m.\u001b[39minfo(\n\u001b[1;32m    681\u001b[0m              \u001b[38;5;124m'\u001b[39m\u001b[38;5;124mCompiling problem (target solver=\u001b[39m\u001b[38;5;132;01m%s\u001b[39;00m\u001b[38;5;124m).\u001b[39m\u001b[38;5;124m'\u001b[39m, solver_name)\n\u001b[1;32m    682\u001b[0m     s\u001b[38;5;241m.\u001b[39mLOGGER\u001b[38;5;241m.\u001b[39minfo(\u001b[38;5;124m'\u001b[39m\u001b[38;5;124mReduction chain: \u001b[39m\u001b[38;5;132;01m%s\u001b[39;00m\u001b[38;5;124m'\u001b[39m, reduction_chain_str)\n\u001b[0;32m--> 683\u001b[0m data, inverse_data \u001b[38;5;241m=\u001b[39m \u001b[43msolving_chain\u001b[49m\u001b[38;5;241;43m.\u001b[39;49m\u001b[43mapply\u001b[49m\u001b[43m(\u001b[49m\u001b[38;5;28;43mself\u001b[39;49m\u001b[43m,\u001b[49m\u001b[43m \u001b[49m\u001b[43mverbose\u001b[49m\u001b[43m)\u001b[49m\n\u001b[1;32m    684\u001b[0m safe_to_cache \u001b[38;5;241m=\u001b[39m (\n\u001b[1;32m    685\u001b[0m     \u001b[38;5;28misinstance\u001b[39m(data, \u001b[38;5;28mdict\u001b[39m)\n\u001b[1;32m    686\u001b[0m     \u001b[38;5;129;01mand\u001b[39;00m s\u001b[38;5;241m.\u001b[39mPARAM_PROB \u001b[38;5;129;01min\u001b[39;00m data\n\u001b[1;32m    687\u001b[0m     \u001b[38;5;129;01mand\u001b[39;00m \u001b[38;5;129;01mnot\u001b[39;00m \u001b[38;5;28many\u001b[39m(\u001b[38;5;28misinstance\u001b[39m(reduction, EvalParams)\n\u001b[1;32m    688\u001b[0m                 \u001b[38;5;28;01mfor\u001b[39;00m reduction \u001b[38;5;129;01min\u001b[39;00m solving_chain\u001b[38;5;241m.\u001b[39mreductions)\n\u001b[1;32m    689\u001b[0m )\n\u001b[1;32m    690\u001b[0m \u001b[38;5;28mself\u001b[39m\u001b[38;5;241m.\u001b[39m_compilation_time \u001b[38;5;241m=\u001b[39m time\u001b[38;5;241m.\u001b[39mtime() \u001b[38;5;241m-\u001b[39m start\n",
      "File \u001b[0;32m~/miniconda3/envs/WPT_mMTC/lib/python3.9/site-packages/cvxpy/reductions/chain.py:76\u001b[0m, in \u001b[0;36mChain.apply\u001b[0;34m(self, problem, verbose)\u001b[0m\n\u001b[1;32m     74\u001b[0m     \u001b[38;5;28;01mif\u001b[39;00m verbose:\n\u001b[1;32m     75\u001b[0m         s\u001b[38;5;241m.\u001b[39mLOGGER\u001b[38;5;241m.\u001b[39minfo(\u001b[38;5;124m'\u001b[39m\u001b[38;5;124mApplying reduction \u001b[39m\u001b[38;5;132;01m%s\u001b[39;00m\u001b[38;5;124m'\u001b[39m, \u001b[38;5;28mtype\u001b[39m(r)\u001b[38;5;241m.\u001b[39m\u001b[38;5;18m__name__\u001b[39m)\n\u001b[0;32m---> 76\u001b[0m     problem, inv \u001b[38;5;241m=\u001b[39m \u001b[43mr\u001b[49m\u001b[38;5;241;43m.\u001b[39;49m\u001b[43mapply\u001b[49m\u001b[43m(\u001b[49m\u001b[43mproblem\u001b[49m\u001b[43m)\u001b[49m\n\u001b[1;32m     77\u001b[0m     inverse_data\u001b[38;5;241m.\u001b[39mappend(inv)\n\u001b[1;32m     78\u001b[0m \u001b[38;5;28;01mreturn\u001b[39;00m problem, inverse_data\n",
      "File \u001b[0;32m~/miniconda3/envs/WPT_mMTC/lib/python3.9/site-packages/cvxpy/reductions/dcp2cone/cone_matrix_stuffing.py:368\u001b[0m, in \u001b[0;36mConeMatrixStuffing.apply\u001b[0;34m(self, problem)\u001b[0m\n\u001b[1;32m    366\u001b[0m \u001b[38;5;66;03m# Batch expressions together, then split apart.\u001b[39;00m\n\u001b[1;32m    367\u001b[0m expr_list \u001b[38;5;241m=\u001b[39m [arg \u001b[38;5;28;01mfor\u001b[39;00m c \u001b[38;5;129;01min\u001b[39;00m ordered_cons \u001b[38;5;28;01mfor\u001b[39;00m arg \u001b[38;5;129;01min\u001b[39;00m c\u001b[38;5;241m.\u001b[39margs]\n\u001b[0;32m--> 368\u001b[0m params_to_problem_data \u001b[38;5;241m=\u001b[39m \u001b[43mextractor\u001b[49m\u001b[38;5;241;43m.\u001b[39;49m\u001b[43maffine\u001b[49m\u001b[43m(\u001b[49m\u001b[43mexpr_list\u001b[49m\u001b[43m)\u001b[49m\n\u001b[1;32m    370\u001b[0m inverse_data\u001b[38;5;241m.\u001b[39mminimize \u001b[38;5;241m=\u001b[39m \u001b[38;5;28mtype\u001b[39m(problem\u001b[38;5;241m.\u001b[39mobjective) \u001b[38;5;241m==\u001b[39m Minimize\n\u001b[1;32m    371\u001b[0m new_prob \u001b[38;5;241m=\u001b[39m ParamConeProg(params_to_c,\n\u001b[1;32m    372\u001b[0m                          flattened_variable,\n\u001b[1;32m    373\u001b[0m                          params_to_problem_data,\n\u001b[0;32m   (...)\u001b[0m\n\u001b[1;32m    378\u001b[0m                          inverse_data\u001b[38;5;241m.\u001b[39mparam_id_map,\n\u001b[1;32m    379\u001b[0m                          P\u001b[38;5;241m=\u001b[39mparams_to_P)\n",
      "File \u001b[0;32m~/miniconda3/envs/WPT_mMTC/lib/python3.9/site-packages/cvxpy/utilities/coeff_extractor.py:83\u001b[0m, in \u001b[0;36mCoeffExtractor.affine\u001b[0;34m(self, expr)\u001b[0m\n\u001b[1;32m     81\u001b[0m \u001b[38;5;28;01melse\u001b[39;00m:\n\u001b[1;32m     82\u001b[0m     expr_list \u001b[38;5;241m=\u001b[39m [expr]\n\u001b[0;32m---> 83\u001b[0m \u001b[38;5;28;01massert\u001b[39;00m \u001b[38;5;28mall\u001b[39m([e\u001b[38;5;241m.\u001b[39mis_dpp() \u001b[38;5;28;01mfor\u001b[39;00m e \u001b[38;5;129;01min\u001b[39;00m expr_list])\n\u001b[1;32m     84\u001b[0m num_rows \u001b[38;5;241m=\u001b[39m \u001b[38;5;28msum\u001b[39m([e\u001b[38;5;241m.\u001b[39msize \u001b[38;5;28;01mfor\u001b[39;00m e \u001b[38;5;129;01min\u001b[39;00m expr_list])\n\u001b[1;32m     85\u001b[0m op_list \u001b[38;5;241m=\u001b[39m [e\u001b[38;5;241m.\u001b[39mcanonical_form[\u001b[38;5;241m0\u001b[39m] \u001b[38;5;28;01mfor\u001b[39;00m e \u001b[38;5;129;01min\u001b[39;00m expr_list]\n",
      "File \u001b[0;32m~/miniconda3/envs/WPT_mMTC/lib/python3.9/site-packages/cvxpy/utilities/coeff_extractor.py:83\u001b[0m, in \u001b[0;36m<listcomp>\u001b[0;34m(.0)\u001b[0m\n\u001b[1;32m     81\u001b[0m \u001b[38;5;28;01melse\u001b[39;00m:\n\u001b[1;32m     82\u001b[0m     expr_list \u001b[38;5;241m=\u001b[39m [expr]\n\u001b[0;32m---> 83\u001b[0m \u001b[38;5;28;01massert\u001b[39;00m \u001b[38;5;28mall\u001b[39m([\u001b[43me\u001b[49m\u001b[38;5;241;43m.\u001b[39;49m\u001b[43mis_dpp\u001b[49m\u001b[43m(\u001b[49m\u001b[43m)\u001b[49m \u001b[38;5;28;01mfor\u001b[39;00m e \u001b[38;5;129;01min\u001b[39;00m expr_list])\n\u001b[1;32m     84\u001b[0m num_rows \u001b[38;5;241m=\u001b[39m \u001b[38;5;28msum\u001b[39m([e\u001b[38;5;241m.\u001b[39msize \u001b[38;5;28;01mfor\u001b[39;00m e \u001b[38;5;129;01min\u001b[39;00m expr_list])\n\u001b[1;32m     85\u001b[0m op_list \u001b[38;5;241m=\u001b[39m [e\u001b[38;5;241m.\u001b[39mcanonical_form[\u001b[38;5;241m0\u001b[39m] \u001b[38;5;28;01mfor\u001b[39;00m e \u001b[38;5;129;01min\u001b[39;00m expr_list]\n",
      "File \u001b[0;32m~/miniconda3/envs/WPT_mMTC/lib/python3.9/site-packages/cvxpy/atoms/atom.py:207\u001b[0m, in \u001b[0;36mAtom.is_dpp\u001b[0;34m(self, context)\u001b[0m\n\u001b[1;32m    204\u001b[0m \u001b[38;5;250m\u001b[39m\u001b[38;5;124;03m\"\"\"The expression is a disciplined parameterized expression.\u001b[39;00m\n\u001b[1;32m    205\u001b[0m \u001b[38;5;124;03m\"\"\"\u001b[39;00m\n\u001b[1;32m    206\u001b[0m \u001b[38;5;28;01mif\u001b[39;00m context\u001b[38;5;241m.\u001b[39mlower() \u001b[38;5;241m==\u001b[39m \u001b[38;5;124m'\u001b[39m\u001b[38;5;124mdcp\u001b[39m\u001b[38;5;124m'\u001b[39m:\n\u001b[0;32m--> 207\u001b[0m     \u001b[38;5;28;01mreturn\u001b[39;00m \u001b[38;5;28;43mself\u001b[39;49m\u001b[38;5;241;43m.\u001b[39;49m\u001b[43mis_dcp\u001b[49m\u001b[43m(\u001b[49m\u001b[43mdpp\u001b[49m\u001b[38;5;241;43m=\u001b[39;49m\u001b[38;5;28;43;01mTrue\u001b[39;49;00m\u001b[43m)\u001b[49m\n\u001b[1;32m    208\u001b[0m \u001b[38;5;28;01melif\u001b[39;00m context\u001b[38;5;241m.\u001b[39mlower() \u001b[38;5;241m==\u001b[39m \u001b[38;5;124m'\u001b[39m\u001b[38;5;124mdgp\u001b[39m\u001b[38;5;124m'\u001b[39m:\n\u001b[1;32m    209\u001b[0m     \u001b[38;5;28;01mreturn\u001b[39;00m \u001b[38;5;28mself\u001b[39m\u001b[38;5;241m.\u001b[39mis_dgp(dpp\u001b[38;5;241m=\u001b[39m\u001b[38;5;28;01mTrue\u001b[39;00m)\n",
      "File \u001b[0;32m~/miniconda3/envs/WPT_mMTC/lib/python3.9/site-packages/cvxpy/utilities/performance_utils.py:73\u001b[0m, in \u001b[0;36mcompute_once.<locals>._compute_once\u001b[0;34m(self, *args, **kwargs)\u001b[0m\n\u001b[1;32m     71\u001b[0m \u001b[38;5;28;01mif\u001b[39;00m key \u001b[38;5;129;01min\u001b[39;00m cache:\n\u001b[1;32m     72\u001b[0m     \u001b[38;5;28;01mreturn\u001b[39;00m cache[key]\n\u001b[0;32m---> 73\u001b[0m result \u001b[38;5;241m=\u001b[39m \u001b[43mfunc\u001b[49m\u001b[43m(\u001b[49m\u001b[38;5;28;43mself\u001b[39;49m\u001b[43m,\u001b[49m\u001b[43m \u001b[49m\u001b[38;5;241;43m*\u001b[39;49m\u001b[43margs\u001b[49m\u001b[43m,\u001b[49m\u001b[43m \u001b[49m\u001b[38;5;241;43m*\u001b[39;49m\u001b[38;5;241;43m*\u001b[39;49m\u001b[43mkwargs\u001b[49m\u001b[43m)\u001b[49m\n\u001b[1;32m     74\u001b[0m cache[key] \u001b[38;5;241m=\u001b[39m result\n\u001b[1;32m     75\u001b[0m \u001b[38;5;28;01mreturn\u001b[39;00m result\n",
      "File \u001b[0;32m~/miniconda3/envs/WPT_mMTC/lib/python3.9/site-packages/cvxpy/expressions/expression.py:243\u001b[0m, in \u001b[0;36mExpression.is_dcp\u001b[0;34m(self, dpp)\u001b[0m\n\u001b[1;32m    241\u001b[0m \u001b[38;5;28;01mif\u001b[39;00m dpp:\n\u001b[1;32m    242\u001b[0m     \u001b[38;5;28;01mwith\u001b[39;00m scopes\u001b[38;5;241m.\u001b[39mdpp_scope():\n\u001b[0;32m--> 243\u001b[0m         \u001b[38;5;28;01mreturn\u001b[39;00m \u001b[38;5;28;43mself\u001b[39;49m\u001b[38;5;241;43m.\u001b[39;49m\u001b[43mis_convex\u001b[49m\u001b[43m(\u001b[49m\u001b[43m)\u001b[49m \u001b[38;5;129;01mor\u001b[39;00m \u001b[38;5;28mself\u001b[39m\u001b[38;5;241m.\u001b[39mis_concave()\n\u001b[1;32m    244\u001b[0m \u001b[38;5;28;01mreturn\u001b[39;00m \u001b[38;5;28mself\u001b[39m\u001b[38;5;241m.\u001b[39mis_convex() \u001b[38;5;129;01mor\u001b[39;00m \u001b[38;5;28mself\u001b[39m\u001b[38;5;241m.\u001b[39mis_concave()\n",
      "File \u001b[0;32m~/miniconda3/envs/WPT_mMTC/lib/python3.9/site-packages/cvxpy/utilities/performance_utils.py:73\u001b[0m, in \u001b[0;36mcompute_once.<locals>._compute_once\u001b[0;34m(self, *args, **kwargs)\u001b[0m\n\u001b[1;32m     71\u001b[0m \u001b[38;5;28;01mif\u001b[39;00m key \u001b[38;5;129;01min\u001b[39;00m cache:\n\u001b[1;32m     72\u001b[0m     \u001b[38;5;28;01mreturn\u001b[39;00m cache[key]\n\u001b[0;32m---> 73\u001b[0m result \u001b[38;5;241m=\u001b[39m \u001b[43mfunc\u001b[49m\u001b[43m(\u001b[49m\u001b[38;5;28;43mself\u001b[39;49m\u001b[43m,\u001b[49m\u001b[43m \u001b[49m\u001b[38;5;241;43m*\u001b[39;49m\u001b[43margs\u001b[49m\u001b[43m,\u001b[49m\u001b[43m \u001b[49m\u001b[38;5;241;43m*\u001b[39;49m\u001b[38;5;241;43m*\u001b[39;49m\u001b[43mkwargs\u001b[49m\u001b[43m)\u001b[49m\n\u001b[1;32m     74\u001b[0m cache[key] \u001b[38;5;241m=\u001b[39m result\n\u001b[1;32m     75\u001b[0m \u001b[38;5;28;01mreturn\u001b[39;00m result\n",
      "File \u001b[0;32m~/miniconda3/envs/WPT_mMTC/lib/python3.9/site-packages/cvxpy/atoms/atom.py:178\u001b[0m, in \u001b[0;36mAtom.is_convex\u001b[0;34m(self)\u001b[0m\n\u001b[1;32m    176\u001b[0m \u001b[38;5;28;01melif\u001b[39;00m \u001b[38;5;28mself\u001b[39m\u001b[38;5;241m.\u001b[39mis_atom_convex():\n\u001b[1;32m    177\u001b[0m     \u001b[38;5;28;01mfor\u001b[39;00m idx, arg \u001b[38;5;129;01min\u001b[39;00m \u001b[38;5;28menumerate\u001b[39m(\u001b[38;5;28mself\u001b[39m\u001b[38;5;241m.\u001b[39margs):\n\u001b[0;32m--> 178\u001b[0m         \u001b[38;5;28;01mif\u001b[39;00m \u001b[38;5;129;01mnot\u001b[39;00m (\u001b[43marg\u001b[49m\u001b[38;5;241;43m.\u001b[39;49m\u001b[43mis_affine\u001b[49m\u001b[43m(\u001b[49m\u001b[43m)\u001b[49m \u001b[38;5;129;01mor\u001b[39;00m\n\u001b[1;32m    179\u001b[0m                 (arg\u001b[38;5;241m.\u001b[39mis_convex() \u001b[38;5;129;01mand\u001b[39;00m \u001b[38;5;28mself\u001b[39m\u001b[38;5;241m.\u001b[39mis_incr(idx)) \u001b[38;5;129;01mor\u001b[39;00m\n\u001b[1;32m    180\u001b[0m                 (arg\u001b[38;5;241m.\u001b[39mis_concave() \u001b[38;5;129;01mand\u001b[39;00m \u001b[38;5;28mself\u001b[39m\u001b[38;5;241m.\u001b[39mis_decr(idx))):\n\u001b[1;32m    181\u001b[0m             \u001b[38;5;28;01mreturn\u001b[39;00m \u001b[38;5;28;01mFalse\u001b[39;00m\n\u001b[1;32m    182\u001b[0m     \u001b[38;5;28;01mreturn\u001b[39;00m \u001b[38;5;28;01mTrue\u001b[39;00m\n",
      "File \u001b[0;32m~/miniconda3/envs/WPT_mMTC/lib/python3.9/site-packages/cvxpy/utilities/performance_utils.py:73\u001b[0m, in \u001b[0;36mcompute_once.<locals>._compute_once\u001b[0;34m(self, *args, **kwargs)\u001b[0m\n\u001b[1;32m     71\u001b[0m \u001b[38;5;28;01mif\u001b[39;00m key \u001b[38;5;129;01min\u001b[39;00m cache:\n\u001b[1;32m     72\u001b[0m     \u001b[38;5;28;01mreturn\u001b[39;00m cache[key]\n\u001b[0;32m---> 73\u001b[0m result \u001b[38;5;241m=\u001b[39m \u001b[43mfunc\u001b[49m\u001b[43m(\u001b[49m\u001b[38;5;28;43mself\u001b[39;49m\u001b[43m,\u001b[49m\u001b[43m \u001b[49m\u001b[38;5;241;43m*\u001b[39;49m\u001b[43margs\u001b[49m\u001b[43m,\u001b[49m\u001b[43m \u001b[49m\u001b[38;5;241;43m*\u001b[39;49m\u001b[38;5;241;43m*\u001b[39;49m\u001b[43mkwargs\u001b[49m\u001b[43m)\u001b[49m\n\u001b[1;32m     74\u001b[0m cache[key] \u001b[38;5;241m=\u001b[39m result\n\u001b[1;32m     75\u001b[0m \u001b[38;5;28;01mreturn\u001b[39;00m result\n",
      "File \u001b[0;32m~/miniconda3/envs/WPT_mMTC/lib/python3.9/site-packages/cvxpy/expressions/expression.py:212\u001b[0m, in \u001b[0;36mExpression.is_affine\u001b[0;34m(self)\u001b[0m\n\u001b[1;32m    208\u001b[0m \u001b[38;5;129m@perf\u001b[39m\u001b[38;5;241m.\u001b[39mcompute_once\n\u001b[1;32m    209\u001b[0m \u001b[38;5;28;01mdef\u001b[39;00m \u001b[38;5;21mis_affine\u001b[39m(\u001b[38;5;28mself\u001b[39m) \u001b[38;5;241m-\u001b[39m\u001b[38;5;241m>\u001b[39m \u001b[38;5;28mbool\u001b[39m:\n\u001b[1;32m    210\u001b[0m \u001b[38;5;250m    \u001b[39m\u001b[38;5;124;03m\"\"\"Is the expression affine?\u001b[39;00m\n\u001b[1;32m    211\u001b[0m \u001b[38;5;124;03m    \"\"\"\u001b[39;00m\n\u001b[0;32m--> 212\u001b[0m     \u001b[38;5;28;01mreturn\u001b[39;00m \u001b[38;5;28;43mself\u001b[39;49m\u001b[38;5;241;43m.\u001b[39;49m\u001b[43mis_constant\u001b[49m\u001b[43m(\u001b[49m\u001b[43m)\u001b[49m \u001b[38;5;129;01mor\u001b[39;00m (\u001b[38;5;28mself\u001b[39m\u001b[38;5;241m.\u001b[39mis_convex() \u001b[38;5;129;01mand\u001b[39;00m \u001b[38;5;28mself\u001b[39m\u001b[38;5;241m.\u001b[39mis_concave())\n",
      "File \u001b[0;32m~/miniconda3/envs/WPT_mMTC/lib/python3.9/site-packages/cvxpy/utilities/performance_utils.py:73\u001b[0m, in \u001b[0;36mcompute_once.<locals>._compute_once\u001b[0;34m(self, *args, **kwargs)\u001b[0m\n\u001b[1;32m     71\u001b[0m \u001b[38;5;28;01mif\u001b[39;00m key \u001b[38;5;129;01min\u001b[39;00m cache:\n\u001b[1;32m     72\u001b[0m     \u001b[38;5;28;01mreturn\u001b[39;00m cache[key]\n\u001b[0;32m---> 73\u001b[0m result \u001b[38;5;241m=\u001b[39m \u001b[43mfunc\u001b[49m\u001b[43m(\u001b[49m\u001b[38;5;28;43mself\u001b[39;49m\u001b[43m,\u001b[49m\u001b[43m \u001b[49m\u001b[38;5;241;43m*\u001b[39;49m\u001b[43margs\u001b[49m\u001b[43m,\u001b[49m\u001b[43m \u001b[49m\u001b[38;5;241;43m*\u001b[39;49m\u001b[38;5;241;43m*\u001b[39;49m\u001b[43mkwargs\u001b[49m\u001b[43m)\u001b[49m\n\u001b[1;32m     74\u001b[0m cache[key] \u001b[38;5;241m=\u001b[39m result\n\u001b[1;32m     75\u001b[0m \u001b[38;5;28;01mreturn\u001b[39;00m result\n",
      "File \u001b[0;32m~/miniconda3/envs/WPT_mMTC/lib/python3.9/site-packages/cvxpy/expressions/expression.py:205\u001b[0m, in \u001b[0;36mExpression.is_constant\u001b[0;34m(self)\u001b[0m\n\u001b[1;32m    201\u001b[0m \u001b[38;5;129m@perf\u001b[39m\u001b[38;5;241m.\u001b[39mcompute_once\n\u001b[1;32m    202\u001b[0m \u001b[38;5;28;01mdef\u001b[39;00m \u001b[38;5;21mis_constant\u001b[39m(\u001b[38;5;28mself\u001b[39m) \u001b[38;5;241m-\u001b[39m\u001b[38;5;241m>\u001b[39m \u001b[38;5;28mbool\u001b[39m:\n\u001b[1;32m    203\u001b[0m \u001b[38;5;250m    \u001b[39m\u001b[38;5;124;03m\"\"\"Is the expression constant?\u001b[39;00m\n\u001b[1;32m    204\u001b[0m \u001b[38;5;124;03m    \"\"\"\u001b[39;00m\n\u001b[0;32m--> 205\u001b[0m     \u001b[38;5;28;01mreturn\u001b[39;00m \u001b[38;5;241m0\u001b[39m \u001b[38;5;129;01min\u001b[39;00m \u001b[38;5;28mself\u001b[39m\u001b[38;5;241m.\u001b[39mshape \u001b[38;5;129;01mor\u001b[39;00m \u001b[38;5;28;43mall\u001b[39;49m\u001b[43m(\u001b[49m\n\u001b[1;32m    206\u001b[0m \u001b[43m        \u001b[49m\u001b[43marg\u001b[49m\u001b[38;5;241;43m.\u001b[39;49m\u001b[43mis_constant\u001b[49m\u001b[43m(\u001b[49m\u001b[43m)\u001b[49m\u001b[43m \u001b[49m\u001b[38;5;28;43;01mfor\u001b[39;49;00m\u001b[43m \u001b[49m\u001b[43marg\u001b[49m\u001b[43m \u001b[49m\u001b[38;5;129;43;01min\u001b[39;49;00m\u001b[43m \u001b[49m\u001b[38;5;28;43mself\u001b[39;49m\u001b[38;5;241;43m.\u001b[39;49m\u001b[43margs\u001b[49m\u001b[43m)\u001b[49m\n",
      "File \u001b[0;32m~/miniconda3/envs/WPT_mMTC/lib/python3.9/site-packages/cvxpy/expressions/expression.py:206\u001b[0m, in \u001b[0;36m<genexpr>\u001b[0;34m(.0)\u001b[0m\n\u001b[1;32m    201\u001b[0m \u001b[38;5;129m@perf\u001b[39m\u001b[38;5;241m.\u001b[39mcompute_once\n\u001b[1;32m    202\u001b[0m \u001b[38;5;28;01mdef\u001b[39;00m \u001b[38;5;21mis_constant\u001b[39m(\u001b[38;5;28mself\u001b[39m) \u001b[38;5;241m-\u001b[39m\u001b[38;5;241m>\u001b[39m \u001b[38;5;28mbool\u001b[39m:\n\u001b[1;32m    203\u001b[0m \u001b[38;5;250m    \u001b[39m\u001b[38;5;124;03m\"\"\"Is the expression constant?\u001b[39;00m\n\u001b[1;32m    204\u001b[0m \u001b[38;5;124;03m    \"\"\"\u001b[39;00m\n\u001b[1;32m    205\u001b[0m     \u001b[38;5;28;01mreturn\u001b[39;00m \u001b[38;5;241m0\u001b[39m \u001b[38;5;129;01min\u001b[39;00m \u001b[38;5;28mself\u001b[39m\u001b[38;5;241m.\u001b[39mshape \u001b[38;5;129;01mor\u001b[39;00m \u001b[38;5;28mall\u001b[39m(\n\u001b[0;32m--> 206\u001b[0m         \u001b[43marg\u001b[49m\u001b[38;5;241;43m.\u001b[39;49m\u001b[43mis_constant\u001b[49m\u001b[43m(\u001b[49m\u001b[43m)\u001b[49m \u001b[38;5;28;01mfor\u001b[39;00m arg \u001b[38;5;129;01min\u001b[39;00m \u001b[38;5;28mself\u001b[39m\u001b[38;5;241m.\u001b[39margs)\n",
      "\u001b[0;31mKeyboardInterrupt\u001b[0m: "
     ]
    }
   ],
   "source": [
    "start = time()\n",
    "s.solve_optimization_jointly_W_P()\n",
    "end = time()\n",
    "print(\"Average accumulated power = {} mW. Processing takes {} seconds\".format(s.calculate_upper_bound_UE_k_using_analysis(k=0) * 1000, end - start))"
   ]
  },
  {
   "cell_type": "code",
   "execution_count": 20,
   "metadata": {},
   "outputs": [
    {
     "name": "stdout",
     "output_type": "stream",
     "text": [
      "Random beamforming: 2.1699685198441543 mW. Processing takes 0.000347137451171875 seconds.\n",
      "Optimal beamforming: 2.1699685198441543 mW. Processing takes 0.1679389476776123 seconds\n",
      "Optimal transmit power: 2.169968573272562 mW. Processing takes 3.013580799102783 seconds\n"
     ]
    }
   ],
   "source": [
    "# random beamforming\n",
    "start = time()\n",
    "s.assign_pilot(option='random')\n",
    "end = time()\n",
    "print(\"Random beamforming: {} mW. Processing takes {} seconds.\". format(s.calculate_upper_bound_UE_k_using_analysis(k=1) * 1000, end - start))\n",
    "\n",
    "# optimal W\n",
    "start = time()\n",
    "x_, z_ = s.solve_W_by_fixing_P()\n",
    "end = time()\n",
    "print(\"Optimal beamforming: {} mW. Processing takes {} seconds\". format(s.calculate_upper_bound_UE_k_using_analysis(k=1) * 1000, end - start))\n",
    "\n",
    "# optimal P\n",
    "start = time()\n",
    "s.solve_P_by_fixing_W(x=x_, z=z_)\n",
    "end = time()\n",
    "print(\"Optimal transmit power: {} mW. Processing takes {} seconds\". format(s.calculate_upper_bound_UE_k_using_analysis(k=1) * 1000, end - start))"
   ]
  },
  {
   "cell_type": "markdown",
   "metadata": {},
   "source": [
    "FIX P SOLVE W"
   ]
  },
  {
   "cell_type": "code",
   "execution_count": null,
   "metadata": {},
   "outputs": [],
   "source": [
    "a = config.a_PARAMETER\n",
    "b = config.b_PARAMETER\n",
    "c = config.c_PARAMETER\n",
    "E_max = config.E_MAX\n",
    "\n",
    "# parameters\n",
    "D = (s.tau_c - s.tau_p) * E_max / (1 - c) / s.tau_c\n",
    "F = D * c\n",
    "p = np.array([s.UE_list[i].P for i in range(s.K)]).reshape(s.K, 1)\n",
    "vector_f = [\n",
    "    [s.construct_vector_f_mk(m=m, k=k) if len(s.AP_list[m].UE_index) > 0 else None for k in range(s.K)] for m in range(s.M)\n",
    "]\n",
    "\n",
    "# initiate a value of alpha\n",
    "alpha = np.ones((s.K, 1))\n",
    "\n",
    "# tolerance and number of trials\n",
    "tol = 10**-3\n",
    "num_trial = 0\n",
    "\n",
    "# previous and current optimal value\n",
    "pre_optimal_val = -1000\n",
    "current_optimal_val = 0\n",
    "\n",
    "# start with random beamforming\n",
    "s.assign_beamforming(option='random')\n",
    "eh = s.calculate_average_accumulated_power()\n",
    "print(\"With random - Average harvested power: {:.5f}\".format(eh))\n",
    "\n",
    "\n",
    "while(num_trial < 30) and np.abs(current_optimal_val - pre_optimal_val) > tol:\n",
    "    num_trial += 1\n",
    "    # assign the current optimal value to previous one\n",
    "    pre_optimal_val = current_optimal_val\n",
    "\n",
    "    # Variables\n",
    "    W = [cp.Variable((len(AP.UE_index), 1)) if len(AP.UE_index) > 0 else None for AP in s.AP_list]\n",
    "    x = cp.Variable((s.K, 1))\n",
    "    y = cp.Variable((s.K, 1))\n",
    "    z = cp.Variable((s.K, 1))\n",
    "    # Introduce a slack variable t to control the feasibility of the optimization problem\n",
    "    t = cp.Variable((s.K, 1), nonneg=True)\n",
    "\n",
    "    # Constraints\n",
    "    constr = []\n",
    "    for w in W:\n",
    "        if w is not None:\n",
    "            # constraint 21: C2\n",
    "            constr += [cp.sum(w) <= 1]\n",
    "            # constraint 21: C4\n",
    "            constr += [w >= 0]\n",
    "    # constraint 22: C2\n",
    "    constr += [z + y >= a * b]\n",
    "    # constraint 22: C4\n",
    "    constr += [x - s.tau_p / s.tau_c / D * p >= F / D]\n",
    "    # constraint 22: C3\n",
    "    for k in range(s.K):\n",
    "        sum = 0\n",
    "        for m in range(s.M):\n",
    "            if len(s.AP_list[m].UE_index) > 0:\n",
    "                sum = sum +  a * s.AP_list[m].P * vector_f[m][k] @ W[m]\n",
    "        constr += [sum >= z[k]]\n",
    "    # constraint 25: C1\n",
    "    constr += [cp.exp(y) + 1 <= 2 * alpha - cp.multiply(x, alpha**2) + t]\n",
    "\n",
    "    # Objective function\n",
    "    f = cp.sum(x + 2 * alpha - cp.multiply(x, alpha**2) - cp.inv_pos(x) - t)\n",
    "    objective = cp.Maximize(f)\n",
    "    problem = cp.Problem(objective, constr)\n",
    "\n",
    "    # Solve the problem\n",
    "    try:\n",
    "        problem.solve(solver = cp.MOSEK, verbose=False)\n",
    "        current_optimal_result = problem.value\n",
    "        # print out the accumulated power\n",
    "        for i in range(s.M):\n",
    "            if W[i] is not None:\n",
    "                s.AP_list[i].w = W[i].value\n",
    "        eh = s.calculate_average_accumulated_power()\n",
    "        print(\"Processing optimization - Average harvested power: {:.5f}\".format(eh))\n",
    "\n",
    "        # assign a new alpha = 1 / x\n",
    "        alpha = 1/x.value\n",
    "    except Exception as e:\n",
    "        print(e)\n",
    "        break"
   ]
  },
  {
   "cell_type": "code",
   "execution_count": null,
   "metadata": {},
   "outputs": [],
   "source": [
    "z.value"
   ]
  },
  {
   "cell_type": "code",
   "execution_count": null,
   "metadata": {},
   "outputs": [],
   "source": [
    "[a * s.calculate_average_received_power_by_analysis(k) for k in range(s.K)]"
   ]
  },
  {
   "cell_type": "code",
   "execution_count": null,
   "metadata": {},
   "outputs": [],
   "source": [
    "# check all the constraints\n",
    "\n",
    "# for w in W:\n",
    "#     if w is not None:\n",
    "#         print(np.sum(w.value) <= 1)\n",
    "#         print(w.value >= 0)\n",
    "\n",
    "# print(z.value + y.value - a * b)\n",
    "\n",
    "# D * x.value - s.tau_p/s.tau_c * p - F\n",
    "\n",
    "# np.exp(y.value) + 1 - 2 * alpha + x.value * alpha**2\n",
    "\n",
    "for k in range(s.K):\n",
    "    diff = a * np.sum(\n",
    "        [s.AP_list[m].P * np.matmul(vector_f[m][k], s.AP_list[m].w) for m in range(s.M) if len(s.AP_list[m].UE_index) > 0]\n",
    "    ) - z.value[k]\n",
    "    \n",
    "    print(diff)"
   ]
  },
  {
   "cell_type": "markdown",
   "metadata": {},
   "source": [
    "FIX W SOLVE P"
   ]
  },
  {
   "cell_type": "code",
   "execution_count": null,
   "metadata": {},
   "outputs": [],
   "source": [
    "# https://math.stackexchange.com/questions/3991820/sum-of-linear-fractional-function-in-constraints-set"
   ]
  },
  {
   "cell_type": "code",
   "execution_count": null,
   "metadata": {},
   "outputs": [],
   "source": [
    "x = x.value\n",
    "z = z.value"
   ]
  },
  {
   "cell_type": "code",
   "execution_count": null,
   "metadata": {},
   "outputs": [],
   "source": [
    "v = np.zeros(shape=(s.M, s.K))\n",
    "for m in range(s.M):\n",
    "    for i in range(s.K):\n",
    "        vector_u_mi = np.array([s.U[m,j,i]/config.NOISE_POWER/a/s.AP_list[m].P for j in range(s.K)])\n",
    "        v[m, i] = 1/(np.matmul(vector_u_mi, p ) + 1)"
   ]
  },
  {
   "cell_type": "code",
   "execution_count": null,
   "metadata": {},
   "outputs": [],
   "source": [
    "# parameters\n",
    "W = s.get_beamforming_weight_W()\n",
    "\n",
    "# variables\n",
    "p = cp.Variable((s.K, 1), pos=True)\n",
    "t = cp.Variable((s.K, 1), nonneg=True)\n",
    "f = cp.Variable((s.M, s.K), nonneg=True)\n",
    "\n",
    "for i in range(10):\n",
    "    # constraints\n",
    "    constr = []\n",
    "    constr += [p >= 10**-6]\n",
    "    constr += [p <= 40]\n",
    "    constr += [D * x - s.tau_p * p >= F]\n",
    "\n",
    "    for k in range(s.K):\n",
    "        sum = 0\n",
    "        for m in range(s.M):\n",
    "            for i in s.AP_list[m].UE_index:\n",
    "                vector_u_mki = np.array([s.U[m,j,i] * s.beta[m,k] if j != k else N * s.U[m,k,i] * s.beta[m,k] for j in range(s.K)])/config.NOISE_POWER\n",
    "                sum += W[m, i] * v[m, i] * (vector_u_mki @ p + s.beta[m,k] / s.N)\n",
    "        \n",
    "        constr += [sum + t[k] >= z[k]]\n",
    "\n",
    "    for m in range(s.M):\n",
    "        for i in s.AP_list[m].UE_index:\n",
    "            vector_u_mi = np.array([s.U[m,j,i]/config.NOISE_POWER/a/s.AP_list[m].P for j in range(s.K)])\n",
    "            constr += [vector_u_mi @ p + 1/a/s.AP_list[m].P <= 1/v[m, i]]\n",
    "\n",
    "    # objective function\n",
    "    obj = - cp.sum(p + t)\n",
    "\n",
    "    objective = cp.Maximize(obj)\n",
    "    problem = cp.Problem(objective, constr)\n",
    "    \n",
    "    # Solve the problem\n",
    "    try:\n",
    "        problem.solve(solver = cp.MOSEK, verbose=False)\n",
    "        print(problem.value)\n",
    "        # print out the accumulated power\n",
    "        for i in range(s.K):\n",
    "            s.UE_list[i].P = p.value[i, 0]\n",
    "        eh = s.calculate_average_accumulated_power()\n",
    "        print(\"Processing optimization - Average harvested power: {:.5f}\".format(eh))\n",
    "\n",
    "        for m in range(s.M):\n",
    "            for i in range(s.K):\n",
    "                vector_u_mi = np.array([s.U[m,j,i]/config.NOISE_POWER/a/s.AP_list[m].P for j in range(s.K)])\n",
    "                v[m, i] = 1/(np.matmul(vector_u_mi, p.value ) + 1)\n",
    "    except Exception as e:\n",
    "        print(e)\n"
   ]
  },
  {
   "cell_type": "code",
   "execution_count": null,
   "metadata": {},
   "outputs": [],
   "source": [
    "10 * np.log10(p.value * 1000)"
   ]
  },
  {
   "cell_type": "code",
   "execution_count": null,
   "metadata": {},
   "outputs": [],
   "source": [
    "s.optimize_W_by_fixing_P()\n",
    "s.calculate_average_accumulated_power()"
   ]
  }
 ],
 "metadata": {
  "kernelspec": {
   "display_name": "WPT_mMTC",
   "language": "python",
   "name": "python3"
  },
  "language_info": {
   "codemirror_mode": {
    "name": "ipython",
    "version": 3
   },
   "file_extension": ".py",
   "mimetype": "text/x-python",
   "name": "python",
   "nbconvert_exporter": "python",
   "pygments_lexer": "ipython3",
   "version": "3.9.6"
  },
  "orig_nbformat": 4
 },
 "nbformat": 4,
 "nbformat_minor": 2
}
